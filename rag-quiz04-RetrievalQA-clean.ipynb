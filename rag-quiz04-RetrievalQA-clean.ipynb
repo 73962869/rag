{
 "cells": [
  {
   "cell_type": "markdown",
   "id": "c89a4cf5",
   "metadata": {},
   "source": [
    "## law_1.docx, law_2.docx\n",
    "- pinecone store 저장\n",
    "    - index name: 임의\n",
    "- RetrievalQA 구현\n",
    "    - prompt: rlm/rag-prompt\n",
    "    - 질문: 전세사기\n"
   ]
  },
  {
   "cell_type": "code",
   "execution_count": 2,
   "id": "a154d941",
   "metadata": {},
   "outputs": [
    {
     "data": {
      "text/plain": [
       "'전세사기피해자의 임대인은 특별법에 따라 단순한 임대인뿐만 아니라 임대인의 대리인, 임대인의 의뢰를 받은 공인중개사, 임대인을 위해 임차인을 모집하는 자, 다수 임대인 배후의 동일인 또는 그들이 지배하는 조직 등을 포함합니다. 따라서 전세사기피해자와 관련된 임대인은 매우 넓은 범위의 이해관계자를 포함할 수 있습니다.'"
      ]
     },
     "execution_count": 2,
     "metadata": {},
     "output_type": "execute_result"
    }
   ],
   "source": [
    "import os\n",
    "\n",
    "from dotenv import load_dotenv\n",
    "from langchain import hub\n",
    "from langchain_community.document_loaders import Docx2txtLoader\n",
    "from langchain_core.output_parsers import StrOutputParser\n",
    "from langchain_core.runnables import RunnablePassthrough\n",
    "from langchain_openai import ChatOpenAI, OpenAIEmbeddings\n",
    "from langchain_pinecone import PineconeVectorStore\n",
    "from langchain_text_splitters import RecursiveCharacterTextSplitter\n",
    "from pinecone import Pinecone\n",
    "\n",
    "\n",
    "## 환경변수 읽어오기\n",
    "load_dotenv()\n",
    "PINECONE_API_KEY = os.getenv('PINECONE_API_KEY')\n",
    "LANGCHAIN_API_KEY = os.getenv('LANGCHAIN_API_KEY')\n",
    "\n",
    "## 문서 읽고 분할 ##################################\n",
    "## 문서 파일 목록\n",
    "# doc_paths = ['law_1.docx', 'law_2.docx']\n",
    "\n",
    "# ## 문서 로드(읽어오기)\n",
    "# documents = []\n",
    "\n",
    "# for path in doc_paths:\n",
    "#     loader = Docx2txtLoader(path)\n",
    "#     documents.extend(loader.load())\n",
    "\n",
    "# ## 청크 분할 설정\n",
    "# text_splitter = RecursiveCharacterTextSplitter(\n",
    "#     chunk_size=1500,\n",
    "#     chunk_overlap=200,\n",
    "# )\n",
    "\n",
    "# ## 문서 분할\n",
    "# document_list = text_splitter.split_documents(documents)\n",
    "\n",
    "\n",
    "## 임베딩 -> 벡터 스토어(데이터베이스)에 저장\n",
    "## 임베딩 모델 지정\n",
    "embedding = OpenAIEmbeddings(model='text-embedding-3-large')\n",
    "pc = Pinecone(api_key=PINECONE_API_KEY)\n",
    "index_name = 'law-index'\n",
    "\n",
    "## 파인콘: 저장\n",
    "# database =  PineconeVectorStore.from_documents(\n",
    "#     documents=document_list,\n",
    "#     embedding=embedding,\n",
    "#     index_name=index_name,\n",
    "# )\n",
    "\n",
    "## 저장된 인덱스 가져오기\n",
    "## [방법 1]\n",
    "# database = PineconeVectorStore(\n",
    "#     index=pc.Index(index_name),\n",
    "#     embedding=embedding,\n",
    "# )\n",
    "\n",
    "## [방법 2]\n",
    "database = PineconeVectorStore.from_existing_index(\n",
    "    index_name=index_name,\n",
    "    embedding=embedding,\n",
    ")\n",
    "\n",
    "## RetrievalQA\n",
    "llm = ChatOpenAI(model='gpt-4o')\n",
    "prompt = hub.pull('rlm/rag-prompt')\n",
    "\n",
    "def format_docs(docs):\n",
    "    return '\\n\\n'.join(doc.page_content for doc in docs)\n",
    "\n",
    "qa_chain = (\n",
    "    {\n",
    "        'context': database.as_retriever() | format_docs,\n",
    "        'question': RunnablePassthrough(),\n",
    "    }\n",
    "    | prompt\n",
    "    | llm\n",
    "    | StrOutputParser()\n",
    ")\n",
    "\n",
    "# qa_chain.invoke('전세사기피해자 대상을 알려주세요.')\n",
    "qa_chain.invoke('전세사기피해자 임대인을 알려주세요.')"
   ]
  },
  {
   "cell_type": "code",
   "execution_count": 3,
   "id": "e535007d",
   "metadata": {},
   "outputs": [
    {
     "data": {
      "text/plain": [
       "'전세사기피해자법에 따르면 전세사기 피해자 지원을 위한 임대인은 임대인 또는 임대인의 대리인, 공인중개사, 임대인을 위해 임차인을 모집하는 자, 다수 임대인의 배후에 있는 동일인 및 그 동일인이나 조직을 배후에 둔 다수의 임대인을 포함합니다. 이러한 정의는 전세사기를 막고 피해자 지원을 강화하기 위한 법적 정의에 해당합니다.'"
      ]
     },
     "execution_count": 3,
     "metadata": {},
     "output_type": "execute_result"
    }
   ],
   "source": [
    "import os\n",
    "\n",
    "from dotenv import load_dotenv\n",
    "from langchain import hub\n",
    "from langchain_core.output_parsers import StrOutputParser\n",
    "from langchain_core.runnables import RunnablePassthrough\n",
    "from langchain_openai import ChatOpenAI, OpenAIEmbeddings\n",
    "from langchain_pinecone import PineconeVectorStore\n",
    "from pinecone import Pinecone\n",
    "\n",
    "\n",
    "## 환경변수 읽어오기 ############################################\n",
    "load_dotenv()\n",
    "PINECONE_API_KEY = os.getenv('PINECONE_API_KEY')\n",
    "LANGCHAIN_API_KEY = os.getenv('LANGCHAIN_API_KEY')\n",
    "\n",
    "## 벡터 스토어(데이터베이스)에서 인덱스 가져오기 ###############\n",
    "## 임베딩 모델 지정\n",
    "embedding = OpenAIEmbeddings(model='text-embedding-3-large')\n",
    "pc = Pinecone(api_key=PINECONE_API_KEY)\n",
    "index_name = 'law-index'\n",
    "\n",
    "## 저장된 인덱스 가져오기\n",
    "database = PineconeVectorStore.from_existing_index(\n",
    "    index_name=index_name,\n",
    "    embedding=embedding,\n",
    ")\n",
    "\n",
    "## RetrievalQA ##################################################\n",
    "llm = ChatOpenAI(model='gpt-4o')\n",
    "prompt = hub.pull('rlm/rag-prompt')\n",
    "\n",
    "def format_docs(docs):\n",
    "    return '\\n\\n'.join(doc.page_content for doc in docs)\n",
    "\n",
    "qa_chain = (\n",
    "    {\n",
    "        'context': database.as_retriever() | format_docs,\n",
    "        'question': RunnablePassthrough(),\n",
    "    }\n",
    "    | prompt\n",
    "    | llm\n",
    "    | StrOutputParser()\n",
    ")\n",
    "\n",
    "# qa_chain.invoke('전세사기피해자 대상을 알려주세요.')\n",
    "qa_chain.invoke('전세사기피해자 임대인을 알려주세요.')"
   ]
  }
 ],
 "metadata": {
  "kernelspec": {
   "display_name": "project",
   "language": "python",
   "name": "python3"
  },
  "language_info": {
   "codemirror_mode": {
    "name": "ipython",
    "version": 3
   },
   "file_extension": ".py",
   "mimetype": "text/x-python",
   "name": "python",
   "nbconvert_exporter": "python",
   "pygments_lexer": "ipython3",
   "version": "3.10.12"
  }
 },
 "nbformat": 4,
 "nbformat_minor": 5
}
