{
 "cells": [
  {
   "cell_type": "markdown",
   "id": "0aaeffb7",
   "metadata": {},
   "source": [
    "# [문제]\n",
    "- law_2.docx 파일을 읽고, Chroma 저장\n",
    "- LLM 질문 -> 답변\n",
    "- 전세사기피해에 관한 법률 질문만 받기\n",
    "- 이 외의 질문은 '답변을 할 수 없습니다.' "
   ]
  },
  {
   "cell_type": "code",
   "execution_count": 1,
   "id": "6b47a2c8",
   "metadata": {},
   "outputs": [
    {
     "data": {
      "text/plain": [
       "'「전세사기피해자 지원 및 주거안정에 관한 특별법」에 따르면 전세사기피해자는 임대인에 의해 임대차 계약의 내용이 사기 또는 기만으로 인해 손해를 입은 임차인을 말합니다. 주로 계약 체결 당시 임대인의 의도적 기만행위나 계약 이행의 불이행 등으로 인한 피해를 입은 경우가 해당됩니다. 이 법에서는 이러한 피해자들을 지원하고 그들의 주거 안정을 도모하기 위한 다양한 지원 방안을 규정하고 있습니다.'"
      ]
     },
     "execution_count": 1,
     "metadata": {},
     "output_type": "execute_result"
    }
   ],
   "source": [
    "from dotenv import load_dotenv\n",
    "from langchain_openai import OpenAIEmbeddings, ChatOpenAI\n",
    "from langchain_chroma import Chroma\n",
    "from langchain_text_splitters import RecursiveCharacterTextSplitter\n",
    "from langchain_community.document_loaders import Docx2txtLoader\n",
    "\n",
    "\n",
    "## 1. 문서 내용 읽고 분할\n",
    "loader = Docx2txtLoader('law_2.docx')\n",
    "\n",
    "text_splitter = RecursiveCharacterTextSplitter(\n",
    "    chunk_size=1500,\n",
    "    chunk_overlap=200,\n",
    ")\n",
    "\n",
    "document_list = loader.load_and_split(text_splitter=text_splitter)\n",
    "\n",
    "\n",
    "## 2. 임베딩 -> 벡터 데이터베이스에 저장\n",
    "## 2.1. 환경변수 읽어오기\n",
    "load_dotenv()\n",
    "\n",
    "## 2.2. 임베딩 모델 지정\n",
    "embedding = OpenAIEmbeddings(model='text-embedding-3-large')\n",
    "\n",
    "## 2.3. 벡터 데이터베이스에 저장\n",
    "## [방법 1] in memory\n",
    "database = Chroma.from_documents(\n",
    "    documents=document_list,\n",
    "    embedding=embedding,\n",
    ")\n",
    "\n",
    "\n",
    "## 3. 질문 -> 벡터 데이터베이스(vector store)에서 유사도 검색\n",
    "## 3.1. 사용자 질문\n",
    "query = '전세사기피해자는 누구인가요?'\n",
    "# query = '오늘 점심 메뉴 정해줘~'\n",
    "\n",
    "## 3.2. 벡터 데이터베이스에서 유사도 검색\n",
    "retrieved_docs = database.similarity_search(query=query, k=2)\n",
    "\n",
    "## 3.3. 문서 객체 2개 -> 하나의 문자열\n",
    "context = '😊😊\\n\\n'.join([doc.page_content for doc in retrieved_docs])\n",
    "\n",
    "\n",
    "## 4. 유사도 검색으로 가져온 문서를 LLM에 질문과 같이 전달\n",
    "## 4.1. 프롬프트 작성\n",
    "prompt = '''\n",
    "[identity]\n",
    "- 당신은 전세사기피해 법률 전문가입니다.\n",
    "- [context]를 참고하여 사용자의 질문에 답변해주세요.\n",
    "- 전세사기피해 법률 이외의 질문에는 '답변을 할 수 없습니다.'로 답하세요.\n",
    "\n",
    "[context]\n",
    "{retrieved_docs}\n",
    "\n",
    "Question: {query}\n",
    "'''\n",
    "\n",
    "## 4.2. 프롬프트 변수에 값 설정\n",
    "formmated_prompt = prompt.format(\n",
    "    retrieved_docs=context,\n",
    "    query=query,\n",
    ")\n",
    "\n",
    "## 4.3. LLM 모델 생성(ChatOpenAI 인스턴스 생성)\n",
    "llm = ChatOpenAI(model='gpt-4o')\n",
    "\n",
    "## 4.4. LLM 모델에 질문과 검색된 문서 보내기\n",
    "ai_message = llm.invoke(formmated_prompt)\n",
    "ai_message.content"
   ]
  }
 ],
 "metadata": {
  "kernelspec": {
   "display_name": "project",
   "language": "python",
   "name": "python3"
  },
  "language_info": {
   "codemirror_mode": {
    "name": "ipython",
    "version": 3
   },
   "file_extension": ".py",
   "mimetype": "text/x-python",
   "name": "python",
   "nbconvert_exporter": "python",
   "pygments_lexer": "ipython3",
   "version": "3.10.12"
  }
 },
 "nbformat": 4,
 "nbformat_minor": 5
}
