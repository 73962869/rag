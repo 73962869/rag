{
 "cells": [
  {
   "cell_type": "markdown",
   "id": "e81be52c",
   "metadata": {},
   "source": [
    "## 파인콘 벡터 DB 저장\n"
   ]
  },
  {
   "cell_type": "code",
   "execution_count": 14,
   "id": "f7cc2399",
   "metadata": {},
   "outputs": [
    {
     "name": "stdout",
     "output_type": "stream",
     "text": [
      "Variable                         Type                              Data/Info\n",
      "----------------------------------------------------------------------------\n",
      "ChatOpenAI                       ModelMetaclass                    <class 'langchain_openai.<...>_models.base.ChatOpenAI'>\n",
      "Chroma                           ABCMeta                           <class 'langchain_chroma.vectorstores.Chroma'>\n",
      "Docx2txtLoader                   ABCMeta                           <class 'langchain_communi<...>document.Docx2txtLoader'>\n",
      "OpenAIEmbeddings                 ModelMetaclass                    <class 'langchain_openai.<...>s.base.OpenAIEmbeddings'>\n",
      "Pinecone                         ABCMeta                           <class 'pinecone.control.pinecone.Pinecone'>\n",
      "PineconeVectorStore              ABCMeta                           <class 'langchain_pinecon<...>res.PineconeVectorStore'>\n",
      "RecursiveCharacterTextSplitter   ABCMeta                           <class 'langchain_text_sp<...>veCharacterTextSplitter'>\n",
      "ai_message                       AIMessage                         content='전세사기피해주택의 가격은 구체<...>dio': 0, 'reasoning': 0}}\n",
      "api_key                          str                               pcsk_7ARQuk_MqHB24sf6yYxm<...>Xbss1PgeZP4g4w5UE4kr3q9xR\n",
      "context                          str                               전세사기피해자 지원 및 주거안정에 관한 특별법<...>\\n\\n  [본조신설 2024. 11. 8.]\n",
      "database                         PineconeVectorStore               <langchain_pinecone.vecto<...>ct at 0x0000025354457160>\n",
      "document_list                    list                              n=6\n",
      "embedding                        OpenAIEmbeddings                  client=<openai.resources.<...>embedding_ctx_length=True\n",
      "formmated_prompt                 str                               \\n[identity]\\n- 당신은 전세사기피<...>estion: 전세사기피해 주택의 가격은?\\n\n",
      "llm                              ChatOpenAI                        client=<openai.resources.<...>y=SecretStr('**********')\n",
      "load_dotenv                      function                          <function load_dotenv at 0x00000253457C6F80>\n",
      "loader                           Docx2txtLoader                    <langchain_community.docu<...>ct at 0x000002535465C6D0>\n",
      "os                               module                            <module 'os' from 'c:\\\\Us<...>vs\\\\project\\\\lib\\\\os.py'>\n",
      "pc                               Pinecone                          <pinecone.control.pinecon<...>ct at 0x00000253545D2050>\n",
      "prompt                           str                               \\n[identity]\\n- 당신은 전세사기피<...>s}\\n\\nQuestion: {query}\\n\n",
      "query                            str                               전세사기피해 주택의 가격은?\n",
      "retrieved_docs                   list                              n=2\n",
      "text_splitter                    RecursiveCharacterTextSplitter    <langchain_text_splitters<...>ct at 0x000002535465C4C0>\n"
     ]
    }
   ],
   "source": [
    "%whos"
   ]
  },
  {
   "cell_type": "code",
   "execution_count": 15,
   "id": "7323edf9",
   "metadata": {},
   "outputs": [],
   "source": [
    "import os\n",
    "from dotenv import load_dotenv\n",
    "from dotenv import load_dotenv\n",
    "from langchain_openai import OpenAIEmbeddings, ChatOpenAI\n",
    "from langchain_chroma import Chroma\n",
    "from langchain_text_splitters import RecursiveCharacterTextSplitter\n",
    "from langchain_community.document_loaders import Docx2txtLoader\n",
    "from langchain_pinecone import PineconeVectorStore\n",
    "from pinecone import Pinecone\n",
    "\n",
    "\n",
    "## 1. 문서 내용 읽고 분할\n",
    "loader = Docx2txtLoader('law_2.docx')\n",
    "\n",
    "text_splitter = RecursiveCharacterTextSplitter(\n",
    "    chunk_size=1500,\n",
    "    chunk_overlap=200,\n",
    ")\n",
    "\n",
    "document_list = loader.load_and_split(text_splitter=text_splitter)\n",
    "\n",
    "\n",
    "## 2. 임베딩 -> 벡터 데이터베이스에 저장\n",
    "## 2.1. 환경변수 읽어오기\n",
    "load_dotenv()\n",
    "\n",
    "## 2.2. 임베딩 모델 지정\n",
    "embedding = OpenAIEmbeddings(model='text-embedding-3-large')"
   ]
  },
  {
   "cell_type": "code",
   "execution_count": 1,
   "id": "843433c9",
   "metadata": {},
   "outputs": [
    {
     "ename": "NameError",
     "evalue": "name 'os' is not defined",
     "output_type": "error",
     "traceback": [
      "\u001b[1;31m---------------------------------------------------------------------------\u001b[0m",
      "\u001b[1;31mNameError\u001b[0m                                 Traceback (most recent call last)",
      "Cell \u001b[1;32mIn[1], line 9\u001b[0m\n\u001b[0;32m      1\u001b[0m \u001b[38;5;66;03m## 2.3. 벡터 데이터베이스에 저장\u001b[39;00m\n\u001b[0;32m      2\u001b[0m \u001b[38;5;66;03m## [방법 1] Chroma: in memory\u001b[39;00m\n\u001b[0;32m      3\u001b[0m \u001b[38;5;66;03m# database = Chroma.from_documents(\u001b[39;00m\n\u001b[1;32m   (...)\u001b[0m\n\u001b[0;32m      7\u001b[0m \n\u001b[0;32m      8\u001b[0m \u001b[38;5;66;03m## [방법 2] Pinecone: server\u001b[39;00m\n\u001b[1;32m----> 9\u001b[0m api_key \u001b[38;5;241m=\u001b[39m \u001b[43mos\u001b[49m\u001b[38;5;241m.\u001b[39mgetenv(\u001b[38;5;124m'\u001b[39m\u001b[38;5;124mPINECONE_API_KEY\u001b[39m\u001b[38;5;124m'\u001b[39m)\n\u001b[0;32m     10\u001b[0m pc \u001b[38;5;241m=\u001b[39m Pinecone(api_key\u001b[38;5;241m=\u001b[39mapi_key)\n\u001b[0;32m     11\u001b[0m pc\n",
      "\u001b[1;31mNameError\u001b[0m: name 'os' is not defined"
     ]
    }
   ],
   "source": [
    "## 2.3. 벡터 데이터베이스에 저장\n",
    "## [방법 1] Chroma: in memory\n",
    "# database = Chroma.from_documents(\n",
    "#     documents=document_list,\n",
    "#     embedding=embedding,\n",
    "# )\n",
    "\n",
    "## [방법 2] Pinecone: server\n",
    "api_key = os.getenv('PINECONE_API_KEY')\n",
    "pc = Pinecone(api_key=api_key)\n",
    "pc"
   ]
  },
  {
   "cell_type": "code",
   "execution_count": 17,
   "id": "7190788d",
   "metadata": {},
   "outputs": [
    {
     "data": {
      "text/plain": [
       "<langchain_pinecone.vectorstores.PineconeVectorStore at 0x2535496bc40>"
      ]
     },
     "execution_count": 17,
     "metadata": {},
     "output_type": "execute_result"
    }
   ],
   "source": [
    "database = PineconeVectorStore.from_documents(\n",
    "    documents=document_list,\n",
    "    embedding=embedding,\n",
    "    index_name='law-2',\n",
    ")\n",
    "database"
   ]
  },
  {
   "cell_type": "code",
   "execution_count": 18,
   "id": "e3055722",
   "metadata": {},
   "outputs": [],
   "source": [
    "## 3. 질문 -> 벡터 데이터베이스(vector store)에서 유사도 검색\n",
    "## 3.1. 사용자 질문\n",
    "query = '전세사기피해주택의 가격은 어떻게 되나요?'\n",
    "# query = '전세사기피해 임대인의 국세 계산은 어떻게 하나요?'\n",
    "# query = '전세사기피해자는 누구인가요?'\n",
    "# query = '오늘 점심 메뉴 정해줘~'\n",
    "\n",
    "## 3.2. 벡터 데이터베이스에서 유사도 검색\n",
    "retrieved_docs = database.similarity_search(query=query, k=2)\n",
    "\n",
    "## 3.3. 문서 객체 2개 -> 하나의 문자열\n",
    "context = '😊😊\\n\\n'.join([doc.page_content for doc in retrieved_docs])\n"
   ]
  },
  {
   "cell_type": "code",
   "execution_count": 19,
   "id": "cc1a1cd7",
   "metadata": {},
   "outputs": [
    {
     "data": {
      "text/plain": [
       "[Document(id='2443f22b-ab0f-46a0-b293-883000acb4fb', metadata={'source': 'law_2.docx'}, page_content='전세사기피해자 지원 및 주거안정에 관한 특별법 시행령 ( 약칭: 전세사기피해자법 시행령 )\\n\\n[시행 2024. 11. 11.] [대통령령 제34987호, 2024. 11. 8., 일부개정]\\n\\n\\n\\n국토교통부(피해지원총괄과) 044-201-5233, 5234\\n\\n\\n\\n제1조(목적) 이 영은 「전세사기피해자 지원 및 주거안정에 관한 특별법」에서 위임된 사항과 그 시행에 필요한 사항을 규정함을 목적으로 한다.\\n\\n제2조(전세사기피해지원단) ① 「전세사기피해자 지원 및 주거안정에 관한 특별법」(이하 “법”이라 한다) 제10조제1항에 따른 전세사기피해지원단(이하 “지원단”이라 한다)은 단장 1명과 단원으로 구성한다.\\n\\n  ② 지원단의 단장은 국토교통부의 고위공무원단에 속하는 일반직공무원 중에서 국토교통부장관이 지명하는 사람이 된다.\\n\\n  ③ 지원단의 단장은 국토교통부장관의 명을 받아 지원단의 업무를 총괄하고, 지원단의 단원을 지휘ㆍ감독한다.\\n\\n  ④ 제1항부터 제3항까지에서 규정한 사항 외에 지원단의 구성 및 운영 등에 필요한 사항은 국토교통부장관이 정한다.\\n\\n제3조(국세의 안분 방법 및 신청 등) ① 법 제23조제1항 각 호 외의 부분 전단에 따라 안분하여 징수하는 전세사기피해주택 임대인의 국세는 다음 각 호의 구분에 따라 산정한다.\\n\\n  1. 상속세, 증여세 및 종합부동산세의 경우: 고지 또는 신고 건별로 각각 가목에 따라 계산한 금액과 나목의 금액 중 큰 금액\\n\\n    가. 다음의 계산식에 따라 계산한 금액\\n\\n  \\n\\nA×(B/C)\\n\\n- **A**: 전세사기피해주택의 임대인이 체납한 고지 또는 신고 건별 국세 금액  \\n\\n- **B**: 전세사기피해주택의 가격  \\n\\n- **C**: 전세사기피해주택의 임대인이 보유한 모든 주택의 가격 합계액\\n\\n\\n\\n    나. 전세사기피해주택의 임대인이 체납한 고지 또는 신고 건별 국세 금액 중 「국세기본법」 제35조제3항에 따른 해당 재산에 대하여 부과된 국세 금액\\n\\n  2. 상속세, 증여세 및 종합부동산세 외의 국세의 경우: 고지 또는 신고 건별로 각각 제1호가목에 따라 계산한 금액\\n\\n  ② 제1항제1호가목의 계산식에서 “전세사기피해주택의 임대인이 보유한 모든 주택의 가격 합계액”은 법 제23조제3항 전단에 따라 안분 적용 신청을 한 날이 속하는 연도의 직전 연도의 「지방세법」 제114조에 따른 과세기준일(이하 “국세 안분 과세기준일”이라 한다)에 전세사기피해주택의 임대인이 소유하고 있었던 주택의 같은 법 제4조제1항 및 제2항에 따른 시가표준액(같은 법 제110조제1항에 따라 주택에 대한 재산세의 과세표준 산정에 적용된 시가표준액을 말한다. 이하 “시가표준액”이라 한다)을 합산한 금액으로 한다.'),\n",
       " Document(id='a366a72a-feb6-483d-b9da-51d679311b07', metadata={'source': 'law_2.docx'}, page_content='1. 「민사집행법」에 따른 경매, 「국세징수법」 또는 「지방세징수법」에 따른 공매 절차에서 「공공주택 특별법」 제4조제1항제2호 또는 제3호에 따른 공공주택사업자(이하 “공공주택사업자”라 한다)가 납부하는 매각대금 또는 매수대금\\n\\n  2. 전세사기피해주택의 공용부분에 대한 전세사기피해자의 미납 사용료 및 관리비\\n\\n  ② 법 제25조제6항에 따른 차액을 산정하는 경우 「공공주택 특별법」 제43조에 따라 매입하였을 때 소요되었을 금액은 「감정평가 및 감정평가사에 관한 법률」에 따른 감정평가법인등(이하 “감정평가법인등”이라 한다) 2인이 평가한 금액의 산술평균치로 한다. 이 경우 감정평가법인등은 공공주택사업자의 요청에 따라 「감정평가 및 감정평가사에 관한 법률」 제33조에 따른 한국감정평가사협회가 추천한 4인 이상의 감정평가법인등 중에서 공공주택사업자와 전세사기피해자가 각각 1인씩 선정한다.\\n\\n  ③ 국가 또는 지방자치단체는 법 제25조제7항에 따라 임대료를 재정으로 지원하는 경우에는 전세사기피해자가 같은 조 제4항에 따른 거주기간 동안 납부해야 하는 임대료에서 같은 조 제6항에 따른 차액을 공제한 금액을 전액 지원한다. 다만, 공공주택사업자가 전세사기피해자의 요청에 따라 제2항 전단에 따른 산술평균치로 전세사기피해주택을 매입한 경우로서 제1호의 금액이 제2호의 금액보다 큰 경우에는 제1호의 금액에서 제2호의 금액을 뺀 금액을 지원하지 않을 수 있다.\\n\\n  1. 전세사기피해주택 매입금액\\n\\n  2. 전세사기피해주택이 소재하는 지역의 주택으로서 전세사기피해주택과 면적 및 권리관계 등이 유사한 주택의 평균 낙찰가격 등을 고려하여 국토교통부장관이 정하는 기준에 따라 산정한 금액\\n\\n  ④ 공공주택사업자는 법 제25조제7항에 따라 전세사기피해자가 납부해야 할 임대료를 재정으로 지원받으려는 경우에는 국토교통부장관 또는 지방자치단체의 장에게 재정 지원 대상 전세사기피해자의 현황 및 금액에 관한 자료를 매년 2월 말일까지 제출해야 한다.\\n\\n  ⑤ 제1항부터 제4항까지에서 규정한 사항 외에 공공주택사업자에 대한 재정 지원에 필요한 사항은 국토교통부장관이 정한다.\\n\\n  [본조신설 2024. 11. 8.]\\n\\n제4조의3(공공임대주택의 우선 공급에 따른 재정 지원) ① 국가 또는 지방자치단체는 법 제25조의2제2항에 따라 감면된 임대료에 해당하는 비용을 재정으로 지원하는 경우에는 같은 조 제1항에 따라 임차인이 공공임대주택에 거주하는 기간 동안 납부해야 하는 임대료 중 감면된 금액을 전액 지원한다.\\n\\n  ② 공공주택사업자는 법 제25조의2제2항에 따라 감면된 임대료에 해당하는 비용을 재정으로 지원받으려는 경우에는 국토교통부장관 또는 지방자치단체의 장에게 재정 지원 대상 임차인의 현황 및 금액에 관한 자료를 매년 2월 말일까지 제출해야 한다.\\n\\n  ③ 제1항 및 제2항에서 규정한 사항 외에 공공주택사업자에 대한 재정 지원에 필요한 사항은 국토교통부장관이 정한다.\\n\\n  [본조신설 2024. 11. 8.]')]"
      ]
     },
     "execution_count": 19,
     "metadata": {},
     "output_type": "execute_result"
    }
   ],
   "source": [
    "retrieved_docs"
   ]
  },
  {
   "cell_type": "code",
   "execution_count": 20,
   "id": "f248ff68",
   "metadata": {},
   "outputs": [
    {
     "data": {
      "text/plain": [
       "'전세사기피해주택의 가격은 지원 및 주거안정에 관한 특별법 시행령 제3조에 따르면, 임대인이 체납한 국세의 안분 방법을 위해 고려됩니다. 이 법령에 따르면, 전세사기피해주택의 가격은 \"전세사기피해주택의 임대인이 체납한 고지 또는 신고 건별 국세 금액\"과 관련된 계산식에서 사용됩니다. 정확한 가격 산정은 임대인이 보유한 모든 주택의 시가표준액 합산액 등을 고려하여 결정됩니다. 따라서 전세사기피해주택의 정확한 가격은 이와 같은 산정 방법을 통해 계산됩니다. 구체적인 평가나 산정은 감정평가를 통해 이루어질 수 있습니다.'"
      ]
     },
     "execution_count": 20,
     "metadata": {},
     "output_type": "execute_result"
    }
   ],
   "source": [
    "## 4. 유사도 검색으로 가져온 문서를 LLM에 질문과 같이 전달\n",
    "## 4.1. 프롬프트 작성\n",
    "prompt = '''\n",
    "[identity]\n",
    "- 당신은 전세사기피해 법률 전문가입니다.\n",
    "- [context]를 참고하여 사용자의 질문에 답변해주세요.\n",
    "- 전세사기피해 법률 이외의 질문에는 '답변을 할 수 없습니다.'로 답하세요.\n",
    "\n",
    "[context]\n",
    "{retrieved_docs}\n",
    "\n",
    "Question: {query}\n",
    "'''\n",
    "\n",
    "## 4.2. 프롬프트 변수에 값 설정\n",
    "formmated_prompt = prompt.format(\n",
    "    retrieved_docs=context,\n",
    "    query=query,\n",
    ")\n",
    "\n",
    "## 4.3. LLM 모델 생성(ChatOpenAI 인스턴스 생성)\n",
    "llm = ChatOpenAI(model='gpt-4o')\n",
    "\n",
    "## 4.4. LLM 모델에 질문과 검색된 문서 보내기\n",
    "ai_message = llm.invoke(formmated_prompt)\n",
    "ai_message.content"
   ]
  },
  {
   "cell_type": "code",
   "execution_count": 21,
   "id": "5e966a90",
   "metadata": {},
   "outputs": [
    {
     "data": {
      "text/plain": [
       "[Document(id='2443f22b-ab0f-46a0-b293-883000acb4fb', metadata={'source': 'law_2.docx'}, page_content='전세사기피해자 지원 및 주거안정에 관한 특별법 시행령 ( 약칭: 전세사기피해자법 시행령 )\\n\\n[시행 2024. 11. 11.] [대통령령 제34987호, 2024. 11. 8., 일부개정]\\n\\n\\n\\n국토교통부(피해지원총괄과) 044-201-5233, 5234\\n\\n\\n\\n제1조(목적) 이 영은 「전세사기피해자 지원 및 주거안정에 관한 특별법」에서 위임된 사항과 그 시행에 필요한 사항을 규정함을 목적으로 한다.\\n\\n제2조(전세사기피해지원단) ① 「전세사기피해자 지원 및 주거안정에 관한 특별법」(이하 “법”이라 한다) 제10조제1항에 따른 전세사기피해지원단(이하 “지원단”이라 한다)은 단장 1명과 단원으로 구성한다.\\n\\n  ② 지원단의 단장은 국토교통부의 고위공무원단에 속하는 일반직공무원 중에서 국토교통부장관이 지명하는 사람이 된다.\\n\\n  ③ 지원단의 단장은 국토교통부장관의 명을 받아 지원단의 업무를 총괄하고, 지원단의 단원을 지휘ㆍ감독한다.\\n\\n  ④ 제1항부터 제3항까지에서 규정한 사항 외에 지원단의 구성 및 운영 등에 필요한 사항은 국토교통부장관이 정한다.\\n\\n제3조(국세의 안분 방법 및 신청 등) ① 법 제23조제1항 각 호 외의 부분 전단에 따라 안분하여 징수하는 전세사기피해주택 임대인의 국세는 다음 각 호의 구분에 따라 산정한다.\\n\\n  1. 상속세, 증여세 및 종합부동산세의 경우: 고지 또는 신고 건별로 각각 가목에 따라 계산한 금액과 나목의 금액 중 큰 금액\\n\\n    가. 다음의 계산식에 따라 계산한 금액\\n\\n  \\n\\nA×(B/C)\\n\\n- **A**: 전세사기피해주택의 임대인이 체납한 고지 또는 신고 건별 국세 금액  \\n\\n- **B**: 전세사기피해주택의 가격  \\n\\n- **C**: 전세사기피해주택의 임대인이 보유한 모든 주택의 가격 합계액\\n\\n\\n\\n    나. 전세사기피해주택의 임대인이 체납한 고지 또는 신고 건별 국세 금액 중 「국세기본법」 제35조제3항에 따른 해당 재산에 대하여 부과된 국세 금액\\n\\n  2. 상속세, 증여세 및 종합부동산세 외의 국세의 경우: 고지 또는 신고 건별로 각각 제1호가목에 따라 계산한 금액\\n\\n  ② 제1항제1호가목의 계산식에서 “전세사기피해주택의 임대인이 보유한 모든 주택의 가격 합계액”은 법 제23조제3항 전단에 따라 안분 적용 신청을 한 날이 속하는 연도의 직전 연도의 「지방세법」 제114조에 따른 과세기준일(이하 “국세 안분 과세기준일”이라 한다)에 전세사기피해주택의 임대인이 소유하고 있었던 주택의 같은 법 제4조제1항 및 제2항에 따른 시가표준액(같은 법 제110조제1항에 따라 주택에 대한 재산세의 과세표준 산정에 적용된 시가표준액을 말한다. 이하 “시가표준액”이라 한다)을 합산한 금액으로 한다.'),\n",
       " Document(id='a366a72a-feb6-483d-b9da-51d679311b07', metadata={'source': 'law_2.docx'}, page_content='1. 「민사집행법」에 따른 경매, 「국세징수법」 또는 「지방세징수법」에 따른 공매 절차에서 「공공주택 특별법」 제4조제1항제2호 또는 제3호에 따른 공공주택사업자(이하 “공공주택사업자”라 한다)가 납부하는 매각대금 또는 매수대금\\n\\n  2. 전세사기피해주택의 공용부분에 대한 전세사기피해자의 미납 사용료 및 관리비\\n\\n  ② 법 제25조제6항에 따른 차액을 산정하는 경우 「공공주택 특별법」 제43조에 따라 매입하였을 때 소요되었을 금액은 「감정평가 및 감정평가사에 관한 법률」에 따른 감정평가법인등(이하 “감정평가법인등”이라 한다) 2인이 평가한 금액의 산술평균치로 한다. 이 경우 감정평가법인등은 공공주택사업자의 요청에 따라 「감정평가 및 감정평가사에 관한 법률」 제33조에 따른 한국감정평가사협회가 추천한 4인 이상의 감정평가법인등 중에서 공공주택사업자와 전세사기피해자가 각각 1인씩 선정한다.\\n\\n  ③ 국가 또는 지방자치단체는 법 제25조제7항에 따라 임대료를 재정으로 지원하는 경우에는 전세사기피해자가 같은 조 제4항에 따른 거주기간 동안 납부해야 하는 임대료에서 같은 조 제6항에 따른 차액을 공제한 금액을 전액 지원한다. 다만, 공공주택사업자가 전세사기피해자의 요청에 따라 제2항 전단에 따른 산술평균치로 전세사기피해주택을 매입한 경우로서 제1호의 금액이 제2호의 금액보다 큰 경우에는 제1호의 금액에서 제2호의 금액을 뺀 금액을 지원하지 않을 수 있다.\\n\\n  1. 전세사기피해주택 매입금액\\n\\n  2. 전세사기피해주택이 소재하는 지역의 주택으로서 전세사기피해주택과 면적 및 권리관계 등이 유사한 주택의 평균 낙찰가격 등을 고려하여 국토교통부장관이 정하는 기준에 따라 산정한 금액\\n\\n  ④ 공공주택사업자는 법 제25조제7항에 따라 전세사기피해자가 납부해야 할 임대료를 재정으로 지원받으려는 경우에는 국토교통부장관 또는 지방자치단체의 장에게 재정 지원 대상 전세사기피해자의 현황 및 금액에 관한 자료를 매년 2월 말일까지 제출해야 한다.\\n\\n  ⑤ 제1항부터 제4항까지에서 규정한 사항 외에 공공주택사업자에 대한 재정 지원에 필요한 사항은 국토교통부장관이 정한다.\\n\\n  [본조신설 2024. 11. 8.]\\n\\n제4조의3(공공임대주택의 우선 공급에 따른 재정 지원) ① 국가 또는 지방자치단체는 법 제25조의2제2항에 따라 감면된 임대료에 해당하는 비용을 재정으로 지원하는 경우에는 같은 조 제1항에 따라 임차인이 공공임대주택에 거주하는 기간 동안 납부해야 하는 임대료 중 감면된 금액을 전액 지원한다.\\n\\n  ② 공공주택사업자는 법 제25조의2제2항에 따라 감면된 임대료에 해당하는 비용을 재정으로 지원받으려는 경우에는 국토교통부장관 또는 지방자치단체의 장에게 재정 지원 대상 임차인의 현황 및 금액에 관한 자료를 매년 2월 말일까지 제출해야 한다.\\n\\n  ③ 제1항 및 제2항에서 규정한 사항 외에 공공주택사업자에 대한 재정 지원에 필요한 사항은 국토교통부장관이 정한다.\\n\\n  [본조신설 2024. 11. 8.]')]"
      ]
     },
     "execution_count": 21,
     "metadata": {},
     "output_type": "execute_result"
    }
   ],
   "source": [
    "retrieved_docs"
   ]
  },
  {
   "cell_type": "code",
   "execution_count": null,
   "id": "52f9732b",
   "metadata": {},
   "outputs": [],
   "source": []
  },
  {
   "cell_type": "code",
   "execution_count": null,
   "id": "6536df55",
   "metadata": {},
   "outputs": [],
   "source": []
  },
  {
   "cell_type": "code",
   "execution_count": null,
   "id": "d8cd0c10",
   "metadata": {},
   "outputs": [],
   "source": []
  },
  {
   "cell_type": "code",
   "execution_count": null,
   "id": "5f9bb16e",
   "metadata": {},
   "outputs": [],
   "source": []
  },
  {
   "cell_type": "code",
   "execution_count": null,
   "id": "dd0575cb",
   "metadata": {},
   "outputs": [],
   "source": []
  },
  {
   "cell_type": "code",
   "execution_count": null,
   "id": "65a15f58",
   "metadata": {},
   "outputs": [],
   "source": []
  },
  {
   "cell_type": "code",
   "execution_count": null,
   "id": "dc67a035",
   "metadata": {},
   "outputs": [],
   "source": []
  }
 ],
 "metadata": {
  "kernelspec": {
   "display_name": "project",
   "language": "python",
   "name": "python3"
  },
  "language_info": {
   "codemirror_mode": {
    "name": "ipython",
    "version": 3
   },
   "file_extension": ".py",
   "mimetype": "text/x-python",
   "name": "python",
   "nbconvert_exporter": "python",
   "pygments_lexer": "ipython3",
   "version": "3.10.12"
  }
 },
 "nbformat": 4,
 "nbformat_minor": 5
}
