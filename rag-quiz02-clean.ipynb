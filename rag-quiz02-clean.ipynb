{
 "cells": [
  {
   "cell_type": "markdown",
   "id": "e81be52c",
   "metadata": {},
   "source": [
    "## 파인콘 벡터 DB 저장\n"
   ]
  },
  {
   "cell_type": "code",
   "execution_count": 11,
   "id": "7323edf9",
   "metadata": {},
   "outputs": [
    {
     "data": {
      "text/plain": [
       "'전세사기피해주택의 가격은 특별법 시행령 제3조제1항제1호에서 설명한 바와 같이, 전세사기피해주택 임대인이 체납한 국세를 안분하여 징수할 때 필요한 요소로서 사용됩니다. 이를 구체적으로 산정하기 위해서는 전세사기피해주택의 실제 거래가격 또는 공인된 감정평가를 기반으로 한 가격을 참고해야 할 것입니다. 보다 명확한 정보를 위해서는 국세기본법 및 관련 지침을 살펴볼 필요가 있습니다. 국토교통부 피해지원총괄과에 문의하시면 정확한 안내를 받을 수 있습니다.'"
      ]
     },
     "execution_count": 11,
     "metadata": {},
     "output_type": "execute_result"
    }
   ],
   "source": [
    "import os\n",
    "from dotenv import load_dotenv\n",
    "from langchain_openai import OpenAIEmbeddings, ChatOpenAI\n",
    "from langchain_text_splitters import RecursiveCharacterTextSplitter\n",
    "from langchain_community.document_loaders import Docx2txtLoader\n",
    "from langchain_pinecone import PineconeVectorStore\n",
    "from pinecone import Pinecone\n",
    "\n",
    "\n",
    "## 1. 문서 내용 읽고 분할\n",
    "loader = Docx2txtLoader('law_2.docx')\n",
    "\n",
    "text_splitter = RecursiveCharacterTextSplitter(\n",
    "    chunk_size=1500,\n",
    "    chunk_overlap=200,\n",
    ")\n",
    "\n",
    "document_list = loader.load_and_split(text_splitter=text_splitter)\n",
    "\n",
    "\n",
    "## 2. 임베딩 -> 벡터 데이터베이스에 저장\n",
    "## 2.1. 환경변수 읽어오기\n",
    "load_dotenv()\n",
    "\n",
    "## 2.2. 임베딩 모델 지정\n",
    "embedding = OpenAIEmbeddings(model='text-embedding-3-large')\n",
    "\n",
    "## 2.3. 저장된 파인콘 인덱스 읽어오기\n",
    "## (cf) 벡터 데이터베이스에 저장\n",
    "# database = PineconeVectorStore.from_documents(\n",
    "#     documents=document_list,\n",
    "#     embedding=embedding,\n",
    "#     index_name='law-2',\n",
    "# )\n",
    "\n",
    "api_key = os.getenv('PINECONE_API_KEY')\n",
    "pc = Pinecone(api_key=api_key)\n",
    "\n",
    "database = PineconeVectorStore(\n",
    "    index=pc.Index('law-2'),\n",
    "    embedding=embedding,\n",
    ")\n",
    "\n",
    "## 3. 질문 -> 벡터 데이터베이스(vector store)에서 유사도 검색\n",
    "## 3.1. 사용자 질문\n",
    "query = '전세사기피해주택의 가격은 어떻게 되나요?'\n",
    "# query = '전세사기피해 임대인의 국세 계산은 어떻게 하나요?'\n",
    "# query = '전세사기피해자는 누구인가요?'\n",
    "# query = '오늘 점심 메뉴 정해줘~'\n",
    "\n",
    "## 3.2. 벡터 데이터베이스에서 유사도 검색\n",
    "retrieved_docs = database.similarity_search(query=query, k=2)\n",
    "\n",
    "## 3.3. 문서 객체 2개 -> 하나의 문자열\n",
    "context = '😊😊\\n\\n'.join([doc.page_content for doc in retrieved_docs])\n",
    "\n",
    "## 4. 유사도 검색으로 가져온 문서를 LLM에 질문과 같이 전달\n",
    "## 4.1. 프롬프트 작성\n",
    "prompt = '''\n",
    "[identity]\n",
    "- 당신은 전세사기피해 법률 전문가입니다.\n",
    "- [context]를 참고하여 사용자의 질문에 답변해주세요.\n",
    "- 전세사기피해 법률 이외의 질문에는 '답변을 할 수 없습니다.'로 답하세요.\n",
    "\n",
    "[context]\n",
    "{retrieved_docs}\n",
    "\n",
    "Question: {query}\n",
    "'''\n",
    "\n",
    "## 4.2. 프롬프트 변수에 값 설정\n",
    "formmated_prompt = prompt.format(\n",
    "    retrieved_docs=context,\n",
    "    query=query,\n",
    ")\n",
    "\n",
    "## 4.3. LLM 모델 생성(ChatOpenAI 인스턴스 생성)\n",
    "llm = ChatOpenAI(model='gpt-4o')\n",
    "\n",
    "## 4.4. LLM 모델에 질문과 검색된 문서 보내기\n",
    "ai_message = llm.invoke(formmated_prompt)\n",
    "ai_message.content"
   ]
  }
 ],
 "metadata": {
  "kernelspec": {
   "display_name": "project",
   "language": "python",
   "name": "python3"
  },
  "language_info": {
   "codemirror_mode": {
    "name": "ipython",
    "version": 3
   },
   "file_extension": ".py",
   "mimetype": "text/x-python",
   "name": "python",
   "nbconvert_exporter": "python",
   "pygments_lexer": "ipython3",
   "version": "3.10.12"
  }
 },
 "nbformat": 4,
 "nbformat_minor": 5
}
