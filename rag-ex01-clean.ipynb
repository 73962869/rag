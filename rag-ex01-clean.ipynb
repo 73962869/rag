{
 "cells": [
  {
   "cell_type": "markdown",
   "id": "60f40a85",
   "metadata": {},
   "source": [
    "1. 문서 내용 읽기\n",
    "2. 문서 분할(쪼개기)\n",
    "    - 문서를 분할하지 않으면,\n",
    "        - 토큰 수 초과로 답변을 생성하지 못할 수 있음\n",
    "        -문서 길이(input)가 길어서 답변 생성에 시간 소요됨 -> 답변 늦어짐\n",
    "3. 임베딩 -> 벡터 데이터베이스에 저장\n",
    "4. 질문이 있으면, 벡터 데이터베이스에 유사도 검색\n",
    "5. 유사도 검색으로 가져온 문서를 LLM에 질문과 같이 전달"
   ]
  },
  {
   "cell_type": "code",
   "execution_count": 13,
   "id": "88d77126",
   "metadata": {},
   "outputs": [
    {
     "name": "stdout",
     "output_type": "stream",
     "text": [
      "Note: you may need to restart the kernel to use updated packages.\n"
     ]
    }
   ],
   "source": [
    "%pip install -Uq langchain langchain-community\n"
   ]
  },
  {
   "cell_type": "code",
   "execution_count": 29,
   "id": "579313d8",
   "metadata": {},
   "outputs": [],
   "source": [
    "## 패키지/라이브러리 설치\n",
    "# %pip install -qU docx2txt langchain_community langchain-text-splitters langchain-chroma"
   ]
  },
  {
   "cell_type": "markdown",
   "id": "1b9a2d04",
   "metadata": {},
   "source": [
    "##"
   ]
  },
  {
   "cell_type": "code",
   "execution_count": 2,
   "id": "04c54542",
   "metadata": {},
   "outputs": [
    {
     "data": {
      "text/plain": [
       "AIMessage(content='전세사기피해자에 대한 금융지원은 \"전세사기피해자 지원 및 주거안정에 관한 특별법\"에 따라 다양한 형태로 이루어질 수 있습니다. 다음은 해당 법률에서 제공하는 금융지원에 대한 주요 내용입니다:\\n\\n1. **융자 지원**:\\n   - 국가 및 지방자치단체는 전세사기피해자 및 긴박한 주거안정이 필요한 임차인에게 필요한 자금을 융자하거나 기타 필요한 지원을 제공할 수 있습니다.\\n   - 특히 주택임대차보호법에 따른 우선변제를 받지 못해 시급한 지원이 필요한 전세사기피해자에게는 주택도시기금에서 주택의 임대차에 필요한 자금을 융자할 수 있습니다.\\n\\n2. **신용정보 관련 지원**:\\n   - 전세사기피해자의 보증금이 변제되지 않은 경우, 해당 전세 관련 대출에 대한 채무 불이행 및 대위변제를 등록 유예하거나 삭제할 수 있습니다. 이 조치는 신용정보집중기관을 통해 정한 기준에 따라 이루어집니다.\\n\\n3. **주택저당채권대상 확대**:\\n   - 전세사기피해자 및 관련 임차인에 대해 한국주택금융공사가 제공하는 주택저당채권대상에 주거 목적으로 사용되는 오피스텔이 포함될 수 있습니다.\\n\\n이러한 금융지원 방안은 전세사기로 인한 경제적 어려움을 해결하고 주거 안정을 도모하기 위한 국가와 공공기관의 지원 정책입니다.', additional_kwargs={'refusal': None}, response_metadata={'token_usage': {'completion_tokens': 351, 'prompt_tokens': 4166, 'total_tokens': 4517, 'completion_tokens_details': {'accepted_prediction_tokens': 0, 'audio_tokens': 0, 'reasoning_tokens': 0, 'rejected_prediction_tokens': 0}, 'prompt_tokens_details': {'audio_tokens': 0, 'cached_tokens': 0}}, 'model_name': 'gpt-4o-2024-08-06', 'system_fingerprint': 'fp_07871e2ad8', 'id': 'chatcmpl-BduJgroTn6tmWnH59nUC66fB2ymK6', 'finish_reason': 'stop', 'logprobs': None}, id='run--b2cfdecc-2b61-4a44-acbb-0cb1d3e7cd70-0', usage_metadata={'input_tokens': 4166, 'output_tokens': 351, 'total_tokens': 4517, 'input_token_details': {'audio': 0, 'cache_read': 0}, 'output_token_details': {'audio': 0, 'reasoning': 0}})"
      ]
     },
     "execution_count": 2,
     "metadata": {},
     "output_type": "execute_result"
    }
   ],
   "source": [
    "from langchain_community.document_loaders import Docx2txtLoader\n",
    "from langchain_text_splitters import RecursiveCharacterTextSplitter\n",
    "from dotenv import load_dotenv\n",
    "from langchain_openai import OpenAIEmbeddings\n",
    "from langchain_chroma import Chroma\n",
    "from langchain_openai import ChatOpenAI\n",
    "\n",
    "# 1. 문서 내용 읽고 분할 ########################################\n",
    "loader = Docx2txtLoader('law_1.docx')\n",
    "\n",
    "text_splitter = RecursiveCharacterTextSplitter(\n",
    "    chunk_size=1500,\n",
    "    chunk_overlap=200,\n",
    ")\n",
    "\n",
    "document_list = loader.load_and_split(text_splitter=text_splitter)\n",
    "\n",
    "# 2. 임베딩 -> 벡터 데이터베이스에 저장 ######################################\n",
    "\n",
    "## 2-1 환경변수 읽어오기\n",
    "load_dotenv()\n",
    "\n",
    "## 2-2. 임베딩 모델 지정 \n",
    "embedding = OpenAIEmbeddings(model='text-embedding-3-large')\n",
    "\n",
    "\n",
    "## 2-3. 벡터 데이터베이스에 저장 \n",
    "## [방법 1] in memory\n",
    "database = Chroma.from_documents(\n",
    "    documents=document_list,\n",
    "    embedding=embedding,\n",
    ")\n",
    "\n",
    "\n",
    "\n",
    "## 3. 질문이 있으면, 벡터 데이터베이스에서 유사도 검색 ############################\n",
    "## 3-1. 사용자 질문\n",
    "query = '전세사기피해자 금융지원에 대해 알려다오'\n",
    "\n",
    "## 3-2. 벡터 데이터베이스에서 유사도 검색\n",
    "retrieved_docs = database.similarity_search(query=query)\n",
    "\n",
    "## 4. 유사도 검색으로 가져온 문서를 LLM에 질문과 같이 전달 #############################\n",
    "## 4-1 프롬프트 작성 \n",
    "prompt = '''\n",
    "[identity]\n",
    "- 당신은 전세사기피해 법률 전문가입니다.\n",
    "-[context]를 참고하여 사용자의 질문에 답변해주세요.\n",
    "\n",
    "[content]\n",
    "{retrieved_docs}\n",
    "\n",
    "Question: {query}\n",
    "\n",
    "'''\n",
    "## 4-2. 프롬프트 변수에 값 설정\n",
    "formatted_prompt = prompt.format(\n",
    "    retrieved_docs=retrieved_docs,\n",
    "    query=query\n",
    ")\n",
    "\n",
    "\n",
    "from langchain_openai import ChatOpenAI\n",
    "\n",
    "## 4-3. LLM 모델 생성(chatOpenAI 인스턴스 생성)\n",
    "llm = ChatOpenAI(model='gpt-4o')\n",
    "## 4-4. LLM 모델에 질문과 검색된 문서를 보냄\n",
    "ai_message = llm.invoke(formatted_prompt)\n",
    "ai_message"
   ]
  },
  {
   "cell_type": "code",
   "execution_count": null,
   "id": "70d2bd68",
   "metadata": {},
   "outputs": [],
   "source": []
  },
  {
   "cell_type": "code",
   "execution_count": null,
   "id": "50cfe69a",
   "metadata": {},
   "outputs": [],
   "source": []
  },
  {
   "cell_type": "code",
   "execution_count": null,
   "id": "a9a9453a",
   "metadata": {},
   "outputs": [],
   "source": []
  }
 ],
 "metadata": {
  "kernelspec": {
   "display_name": "project",
   "language": "python",
   "name": "python3"
  },
  "language_info": {
   "codemirror_mode": {
    "name": "ipython",
    "version": 3
   },
   "file_extension": ".py",
   "mimetype": "text/x-python",
   "name": "python",
   "nbconvert_exporter": "python",
   "pygments_lexer": "ipython3",
   "version": "3.10.12"
  }
 },
 "nbformat": 4,
 "nbformat_minor": 5
}
